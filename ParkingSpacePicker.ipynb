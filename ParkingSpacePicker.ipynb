{
 "cells": [
  {
   "cell_type": "code",
   "execution_count": 3,
   "id": "c82935a1",
   "metadata": {},
   "outputs": [
    {
     "name": "stdout",
     "output_type": "stream",
     "text": [
      "Collecting cvzone\n",
      "  Downloading cvzone-1.5.6.tar.gz (12 kB)\n",
      "Requirement already satisfied: opencv-python in c:\\users\\vmrma\\anaconda3\\lib\\site-packages (from cvzone) (4.5.5.62)\n",
      "Requirement already satisfied: numpy in c:\\users\\vmrma\\anaconda3\\lib\\site-packages (from cvzone) (1.20.1)\n",
      "Building wheels for collected packages: cvzone\n",
      "  Building wheel for cvzone (setup.py): started\n",
      "  Building wheel for cvzone (setup.py): finished with status 'done'\n",
      "  Created wheel for cvzone: filename=cvzone-1.5.6-py3-none-any.whl size=18766 sha256=aa4c4fecf9559bbeaa9a9115109d4d73aa917aa38ed7ca0a2e243031815e46a8\n",
      "  Stored in directory: c:\\users\\vmrma\\appdata\\local\\pip\\cache\\wheels\\67\\60\\9a\\e5060027d8eae2c01ba872fdbc094a6fe3fee15794ee3dc709\n",
      "Successfully built cvzone\n",
      "Installing collected packages: cvzone\n",
      "Successfully installed cvzone-1.5.6\n",
      "Note: you may need to restart the kernel to use updated packages.\n"
     ]
    }
   ],
   "source": [
    "pip install cvzone\n"
   ]
  },
  {
   "cell_type": "code",
   "execution_count": null,
   "id": "7ca5065a",
   "metadata": {},
   "outputs": [],
   "source": [
    "import cv2\n",
    "import pickle\n",
    "#Pickle- Save position and places of parking spaces and bring it to main code\n",
    "\n",
    "width, height = 107, 48\n",
    "\n",
    "try:\n",
    "    with open('CarParkPos', 'rb') as f:\n",
    "        posList = pickle.load(f)\n",
    "except:\n",
    "    posList = []\n",
    "\n",
    "\n",
    "def mouseClick(events, x, y, flags, params):\n",
    "    if events == cv2.EVENT_LBUTTONDOWN:\n",
    "        posList.append((x, y))\n",
    "    if events == cv2.EVENT_RBUTTONDOWN:\n",
    "        for i, pos in enumerate(posList):\n",
    "            x1, y1 = pos\n",
    "            if x1 < x < x1 + width and y1 < y < y1 + height:\n",
    "                posList.pop(i)\n",
    "\n",
    "    with open('CarParkPos', 'wb') as f:\n",
    "        pickle.dump(posList, f)\n",
    "\n",
    "\n",
    "while True:\n",
    "    img = cv2.imread('carParkImg.png')\n",
    "    for pos in posList:\n",
    "        cv2.rectangle(img, pos, (pos[0] + width, pos[1] + height), (255, 0, 255), 2)\n",
    "\n",
    "    cv2.imshow(\"Image\", img)\n",
    "    cv2.setMouseCallback(\"Image\", mouseClick)\n",
    "    cv2.waitKey(0)"
   ]
  },
  {
   "cell_type": "code",
   "execution_count": 1,
   "id": "fb729b35",
   "metadata": {},
   "outputs": [
    {
     "ename": "KeyboardInterrupt",
     "evalue": "",
     "output_type": "error",
     "traceback": [
      "\u001b[1;31m---------------------------------------------------------------------------\u001b[0m",
      "\u001b[1;31mKeyboardInterrupt\u001b[0m                         Traceback (most recent call last)",
      "\u001b[1;32m<ipython-input-1-c5d961912153>\u001b[0m in \u001b[0;36m<module>\u001b[1;34m\u001b[0m\n\u001b[0;32m     29\u001b[0m \u001b[1;33m\u001b[0m\u001b[0m\n\u001b[0;32m     30\u001b[0m \u001b[1;32mwhile\u001b[0m \u001b[1;32mTrue\u001b[0m\u001b[1;33m:\u001b[0m\u001b[1;33m\u001b[0m\u001b[1;33m\u001b[0m\u001b[0m\n\u001b[1;32m---> 31\u001b[1;33m     \u001b[0mimg\u001b[0m \u001b[1;33m=\u001b[0m \u001b[0mcv2\u001b[0m\u001b[1;33m.\u001b[0m\u001b[0mimread\u001b[0m\u001b[1;33m(\u001b[0m\u001b[1;34m'carParkImg.png'\u001b[0m\u001b[1;33m)\u001b[0m\u001b[1;33m\u001b[0m\u001b[1;33m\u001b[0m\u001b[0m\n\u001b[0m\u001b[0;32m     32\u001b[0m     \u001b[1;31m#detect the mouse click\u001b[0m\u001b[1;33m\u001b[0m\u001b[1;33m\u001b[0m\u001b[1;33m\u001b[0m\u001b[0m\n\u001b[0;32m     33\u001b[0m     \u001b[1;32mfor\u001b[0m \u001b[0mpos\u001b[0m \u001b[1;32min\u001b[0m \u001b[0mposList\u001b[0m\u001b[1;33m:\u001b[0m\u001b[1;33m\u001b[0m\u001b[1;33m\u001b[0m\u001b[0m\n",
      "\u001b[1;31mKeyboardInterrupt\u001b[0m: "
     ]
    }
   ],
   "source": [
    "import cv2\n",
    "import pickle\n",
    "\n",
    "\n",
    "width, height = 107, 48\n",
    "posList = []\n",
    "\n",
    "\n",
    "try:\n",
    "    with open('rain','wb') as f:\n",
    "        posList = pickle.load(f)\n",
    "        \n",
    "except:\n",
    "    posList = []\n",
    "\n",
    "\n",
    "def mouseClick(events, x, y, flags, params):\n",
    "    if events == cv2.EVENT_LBUTTONDOWN:\n",
    "        posList.append((x,y))\n",
    "    if events == cv2.EVENT_RBUTTONDOWN:\n",
    "        for i, pos in enumerate(posList):\n",
    "            x1,y1=pos\n",
    "            if x1<x<x1+width and y1<y<y1+height:\n",
    "                posList.pop(i)\n",
    "                \n",
    "    \n",
    "                \n",
    "        \n",
    "    \n",
    "while True:\n",
    "    img = cv2.imread('carParkImg.png')\n",
    "    #detect the mouse click\n",
    "    for pos in posList:\n",
    "        cv2.rectangle(img, pos, (pos[0]+width,pos[1]+height), (0,0,0), 2)\n",
    "    cv2.imshow(\"Image\",img)\n",
    "    cv2.setMouseCallback(\"Image\",mouseClick)\n",
    "    cv2.waitKey(1)"
   ]
  },
  {
   "cell_type": "code",
   "execution_count": null,
   "id": "719d479b",
   "metadata": {},
   "outputs": [],
   "source": []
  }
 ],
 "metadata": {
  "kernelspec": {
   "display_name": "Python 3",
   "language": "python",
   "name": "python3"
  },
  "language_info": {
   "codemirror_mode": {
    "name": "ipython",
    "version": 3
   },
   "file_extension": ".py",
   "mimetype": "text/x-python",
   "name": "python",
   "nbconvert_exporter": "python",
   "pygments_lexer": "ipython3",
   "version": "3.8.8"
  }
 },
 "nbformat": 4,
 "nbformat_minor": 5
}
